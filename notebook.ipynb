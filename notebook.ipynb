{
 "cells": [
  {
   "cell_type": "markdown",
   "id": "192a9ac2",
   "metadata": {},
   "source": [
    "# Predicting Diabetes Hospital Readmission"
   ]
  },
  {
   "cell_type": "markdown",
   "id": "8d8263c0",
   "metadata": {},
   "source": [
    "### Table of Contents\n",
    "\n",
    "1. [Introduction](#introduction)  \n",
    "2. [Data Exploration & Initial Analysis](#data-exploration--initial-analysis)  \n",
    "3. [Feature Engineering & Custom Transformers](#feature-engineering--custom-transformers)  \n",
    "4. [Handling Class Imbalance](#handling-class-imbalance)  \n",
    "5. [Building Modelling Pipelines](#building-modelling-pipelines)  \n",
    "6. [Model Evaluation](#model-evaluation)  \n",
    "7. [Interpretability](#interpretability)  \n",
    "8. [Model Tuning & Optimisation](#model-tuning--optimisation)"
   ]
  },
  {
   "cell_type": "markdown",
   "id": "4a7e99bd",
   "metadata": {},
   "source": [
    "## 1. Introduction"
   ]
  },
  {
   "cell_type": "markdown",
   "id": "8ad0878a",
   "metadata": {},
   "source": [
    "### Project Overview"
   ]
  },
  {
   "cell_type": "markdown",
   "id": "22b33347",
   "metadata": {},
   "source": [
    "In this project, I aim to predict **30-day hospital readmissions for diabetes patients** using the [UCI Diabetes 130-US Hospitals Dataset](https://archive.ics.uci.edu/dataset/296/diabetes+130-us+hospitals+for+years+1999-2008).\n",
    "\n",
    "The dataset contains ten years of clinical data from over 130 U.S. hospitals and integrated delivery networks, and is openly licensed for public use."
   ]
  },
  {
   "cell_type": "markdown",
   "id": "fe3562ac",
   "metadata": {},
   "source": [
    "### Why it matters"
   ]
  },
  {
   "cell_type": "markdown",
   "id": "07d83450",
   "metadata": {},
   "source": [
    "Hospital readmissions are a critical issue in healthcare due to:\n",
    "\n",
    "- **Patient Risk:** Readmissions often reflect missed opportunities for preventative measures, increasing the likelihood of complications and worse long-term outcomes.\n",
    "- **Financial Cost:** Unplanned readmissions increase healthcare costs.\n",
    "\n",
    "Being able to **predict readmission risk** enables healthcare providers to proactively identify high-risk patients, prioritize follow-up care, and reduce avoidable costs.\n"
   ]
  },
  {
   "cell_type": "markdown",
   "id": "446c104e",
   "metadata": {},
   "source": [
    "### Imports"
   ]
  },
  {
   "cell_type": "code",
   "execution_count": null,
   "id": "836ff7ca",
   "metadata": {},
   "outputs": [],
   "source": [
    "# Standard library\n",
    "import os\n",
    "import sys\n",
    "import random\n",
    "from pathlib import Path\n",
    "\n",
    "# Data manipulation\n",
    "import numpy as np\n",
    "import pandas as pd\n",
    "\n",
    "# Visualization\n",
    "import matplotlib.pyplot as plt\n",
    "import seaborn as sns\n",
    "\n",
    "# Machine learning\n",
    "from sklearn.model_selection import train_test_split, cross_validate, RandomizedSearchCV\n",
    "from sklearn.linear_model import LogisticRegression\n",
    "from sklearn.ensemble import RandomForestClassifier\n",
    "from sklearn.metrics import f1_score, precision_score, recall_score, average_precision_score, make_scorer\n",
    "from sklearn.compose import ColumnTransformer\n",
    "from sklearn.preprocessing import OneHotEncoder, OrdinalEncoder, StandardScaler\n",
    "from sklearn.base import BaseEstimator, TransformerMixin, clone\n",
    "from sklearn.feature_selection import mutual_info_classif\n",
    "\n",
    "# Imbalanced-learn\n",
    "from imblearn.pipeline import Pipeline\n",
    "from imblearn.over_sampling import SMOTENC\n",
    "from imblearn.under_sampling import RandomUnderSampler\n",
    "\n",
    "# XGBoost\n",
    "from xgboost import XGBClassifier\n",
    "\n",
    "# Custom project modules (from src/)\n",
    "from src.utils import view_categorical_variables, make_mi_scores, plot_performance, build_pipeline\n",
    "from src.transformers import GlobalImputer, FeatureEngineer, DiagnosisCategoriser, CategorySetter, SMOTENCSampler, UnderSampler"
   ]
  },
  {
   "cell_type": "markdown",
   "id": "bff3598c",
   "metadata": {},
   "source": [
    "## 2. Data Exploration & Initial Analysis"
   ]
  },
  {
   "cell_type": "markdown",
   "id": "26492a15",
   "metadata": {},
   "source": [
    "First, we fetch data using the ucimlrepo library and view the features."
   ]
  },
  {
   "cell_type": "code",
   "execution_count": 3,
   "id": "f1374ff0",
   "metadata": {},
   "outputs": [
    {
     "name": "stdout",
     "output_type": "stream",
     "text": [
      "{'uci_id': 296, 'name': 'Diabetes 130-US Hospitals for Years 1999-2008', 'repository_url': 'https://archive.ics.uci.edu/dataset/296/diabetes+130-us+hospitals+for+years+1999-2008', 'data_url': 'https://archive.ics.uci.edu/static/public/296/data.csv', 'abstract': 'The dataset represents ten years (1999-2008) of clinical care at 130 US hospitals and integrated delivery networks. Each row concerns hospital records of patients diagnosed with diabetes, who underwent laboratory, medications, and stayed up to 14 days. The goal is to determine the early readmission of the patient within 30 days of discharge.\\nThe problem is important for the following reasons. Despite high-quality evidence showing improved clinical outcomes for diabetic patients who receive various preventive and therapeutic interventions, many patients do not receive them. This can be partially attributed to arbitrary diabetes management in hospital environments, which fail to attend to glycemic control. Failure to provide proper diabetes care not only increases the managing costs for the hospitals (as the patients are readmitted) but also impacts the morbidity and mortality of the patients, who may face complications associated with diabetes.\\n', 'area': 'Health and Medicine', 'tasks': ['Classification', 'Clustering'], 'characteristics': ['Multivariate'], 'num_instances': 101766, 'num_features': 47, 'feature_types': ['Categorical', 'Integer'], 'demographics': ['Race', 'Gender', 'Age'], 'target_col': ['readmitted'], 'index_col': ['encounter_id', 'patient_nbr'], 'has_missing_values': 'yes', 'missing_values_symbol': 'NaN', 'year_of_dataset_creation': 2014, 'last_updated': 'Tue Sep 24 2024', 'dataset_doi': '10.24432/C5230J', 'creators': ['John Clore', 'Krzysztof Cios', 'Jon DeShazo', 'Beata Strack'], 'intro_paper': {'ID': 225, 'type': 'NATIVE', 'title': 'Impact of HbA1c Measurement on Hospital Readmission Rates: Analysis of 70,000 Clinical Database Patient Record', 'authors': 'Beata Strack, Jonathan DeShazo, Chris Gennings, Juan Olmo, Sebastian Ventura, Krzysztof Cios, John Clore', 'venue': 'BioMed Research International, vol. 2014', 'year': 2014, 'journal': None, 'DOI': None, 'URL': 'https://www.hindawi.com/journals/bmri/2014/781670/', 'sha': None, 'corpus': None, 'arxiv': None, 'mag': None, 'acl': None, 'pmid': None, 'pmcid': None}, 'additional_info': {'summary': 'The dataset represents ten years (1999-2008) of clinical care at 130 US hospitals and integrated delivery networks. It includes over 50 features representing patient and hospital outcomes. Information was extracted from the database for encounters that satisfied the following criteria.\\n(1)\\tIt is an inpatient encounter (a hospital admission).\\n(2)\\tIt is a diabetic encounter, that is, one during which any kind of diabetes was entered into the system as a diagnosis.\\n(3)\\tThe length of stay was at least 1 day and at most 14 days.\\n(4)\\tLaboratory tests were performed during the encounter.\\n(5)\\tMedications were administered during the encounter.\\n\\nThe data contains such attributes as patient number, race, gender, age, admission type, time in hospital, medical specialty of admitting physician, number of lab tests performed, HbA1c test result, diagnosis, number of medications, diabetic medications, number of outpatient, inpatient, and emergency visits in the year before the hospitalization, etc.', 'purpose': None, 'funded_by': None, 'instances_represent': 'The instances represent hospitalized patient records diagnosed with diabetes.', 'recommended_data_splits': 'No recommendation. The standard train-test split could be used. Can use three-way holdout split (i.e., train-validation-test) when doing model selection.', 'sensitive_data': 'Yes. The dataset contains information about the age, gender, and race of the patients.', 'preprocessing_description': None, 'variable_info': 'Detailed description of all the atrributes is provided in Table 1 Beata Strack, Jonathan P. DeShazo, Chris Gennings,  Juan L. Olmo, Sebastian Ventura,  Krzysztof J. Cios, and John N. Clore, “Impact of HbA1c Measurement on Hospital Readmission Rates: Analysis of 70,000 Clinical Database Patient Records,” BioMed Research International, vol. 2014, Article ID 781670, 11 pages, 2014.\\n\\nhttp://www.hindawi.com/journals/bmri/2014/781670/', 'citation': 'Please cite:\\nBeata Strack, Jonathan P. DeShazo, Chris Gennings, Juan L. Olmo, Sebastian Ventura, Krzysztof J. Cios, and John N. Clore, “Impact of HbA1c Measurement on Hospital Readmission Rates: Analysis of 70,000 Clinical Database Patient Records,” BioMed Research International, vol. 2014, Article ID 781670, 11 pages, 2014.'}}\n",
      "                        name     role         type demographic  \\\n",
      "0               encounter_id       ID                     None   \n",
      "1                patient_nbr       ID                     None   \n",
      "2                       race  Feature  Categorical        Race   \n",
      "3                     gender  Feature  Categorical      Gender   \n",
      "4                        age  Feature  Categorical         Age   \n",
      "5                     weight  Feature  Categorical        None   \n",
      "6          admission_type_id  Feature  Categorical        None   \n",
      "7   discharge_disposition_id  Feature  Categorical        None   \n",
      "8        admission_source_id  Feature  Categorical        None   \n",
      "9           time_in_hospital  Feature      Integer        None   \n",
      "10                payer_code  Feature  Categorical        None   \n",
      "11         medical_specialty  Feature  Categorical        None   \n",
      "12        num_lab_procedures  Feature      Integer        None   \n",
      "13            num_procedures  Feature      Integer        None   \n",
      "14           num_medications  Feature      Integer        None   \n",
      "15         number_outpatient  Feature      Integer        None   \n",
      "16          number_emergency  Feature      Integer        None   \n",
      "17          number_inpatient  Feature      Integer        None   \n",
      "18                    diag_1  Feature  Categorical        None   \n",
      "19                    diag_2  Feature  Categorical        None   \n",
      "20                    diag_3  Feature  Categorical        None   \n",
      "21          number_diagnoses  Feature      Integer        None   \n",
      "22             max_glu_serum  Feature  Categorical        None   \n",
      "23                 A1Cresult  Feature  Categorical        None   \n",
      "24                 metformin  Feature  Categorical        None   \n",
      "25               repaglinide  Feature  Categorical        None   \n",
      "26               nateglinide  Feature  Categorical        None   \n",
      "27            chlorpropamide  Feature  Categorical        None   \n",
      "28               glimepiride  Feature  Categorical        None   \n",
      "29             acetohexamide  Feature  Categorical        None   \n",
      "30                 glipizide  Feature  Categorical        None   \n",
      "31                 glyburide  Feature  Categorical        None   \n",
      "32               tolbutamide  Feature  Categorical        None   \n",
      "33              pioglitazone  Feature  Categorical        None   \n",
      "34             rosiglitazone  Feature  Categorical        None   \n",
      "35                  acarbose  Feature  Categorical        None   \n",
      "36                  miglitol  Feature  Categorical        None   \n",
      "37              troglitazone  Feature  Categorical        None   \n",
      "38                tolazamide  Feature  Categorical        None   \n",
      "39                   examide  Feature  Categorical        None   \n",
      "40               citoglipton  Feature  Categorical        None   \n",
      "41                   insulin  Feature  Categorical        None   \n",
      "42       glyburide-metformin  Feature  Categorical        None   \n",
      "43       glipizide-metformin  Feature  Categorical        None   \n",
      "44  glimepiride-pioglitazone  Feature  Categorical        None   \n",
      "45   metformin-rosiglitazone  Feature  Categorical        None   \n",
      "46    metformin-pioglitazone  Feature  Categorical        None   \n",
      "47                    change  Feature  Categorical        None   \n",
      "48               diabetesMed  Feature  Categorical        None   \n",
      "49                readmitted   Target  Categorical        None   \n",
      "\n",
      "                                          description units missing_values  \n",
      "0                   Unique identifier of an encounter  None             no  \n",
      "1                      Unique identifier of a patient  None             no  \n",
      "2   Values: Caucasian, Asian, African American, Hi...  None            yes  \n",
      "3           Values: male, female, and unknown/invalid  None             no  \n",
      "4   Grouped in 10-year intervals: [0, 10), [10, 20...  None             no  \n",
      "5                                   Weight in pounds.  None            yes  \n",
      "6   Integer identifier corresponding to 9 distinct...  None             no  \n",
      "7   Integer identifier corresponding to 29 distinc...  None             no  \n",
      "8   Integer identifier corresponding to 21 distinc...  None             no  \n",
      "9   Integer number of days between admission and d...  None             no  \n",
      "10  Integer identifier corresponding to 23 distinc...  None            yes  \n",
      "11  Integer identifier of a specialty of the admit...  None            yes  \n",
      "12  Number of lab tests performed during the encou...  None             no  \n",
      "13  Number of procedures (other than lab tests) pe...  None             no  \n",
      "14  Number of distinct generic names administered ...  None             no  \n",
      "15  Number of outpatient visits of the patient in ...  None             no  \n",
      "16  Number of emergency visits of the patient in t...  None             no  \n",
      "17  Number of inpatient visits of the patient in t...  None             no  \n",
      "18  The primary diagnosis (coded as first three di...  None            yes  \n",
      "19  Secondary diagnosis (coded as first three digi...  None            yes  \n",
      "20  Additional secondary diagnosis (coded as first...  None            yes  \n",
      "21          Number of diagnoses entered to the system  None             no  \n",
      "22  Indicates the range of the result or if the te...  None             no  \n",
      "23  Indicates the range of the result or if the te...  None             no  \n",
      "24  The feature indicates whether the drug was pre...  None             no  \n",
      "25  The feature indicates whether the drug was pre...  None             no  \n",
      "26  The feature indicates whether the drug was pre...  None             no  \n",
      "27  The feature indicates whether the drug was pre...  None             no  \n",
      "28  The feature indicates whether the drug was pre...  None             no  \n",
      "29  The feature indicates whether the drug was pre...  None             no  \n",
      "30  The feature indicates whether the drug was pre...  None             no  \n",
      "31  The feature indicates whether the drug was pre...  None             no  \n",
      "32  The feature indicates whether the drug was pre...  None             no  \n",
      "33  The feature indicates whether the drug was pre...  None             no  \n",
      "34  The feature indicates whether the drug was pre...  None             no  \n",
      "35  The feature indicates whether the drug was pre...  None             no  \n",
      "36  The feature indicates whether the drug was pre...  None             no  \n",
      "37  The feature indicates whether the drug was pre...  None             no  \n",
      "38  The feature indicates whether the drug was pre...  None             no  \n",
      "39  The feature indicates whether the drug was pre...  None             no  \n",
      "40  The feature indicates whether the drug was pre...  None             no  \n",
      "41  The feature indicates whether the drug was pre...  None             no  \n",
      "42  The feature indicates whether the drug was pre...  None             no  \n",
      "43  The feature indicates whether the drug was pre...  None             no  \n",
      "44  The feature indicates whether the drug was pre...  None             no  \n",
      "45  The feature indicates whether the drug was pre...  None             no  \n",
      "46  The feature indicates whether the drug was pre...  None             no  \n",
      "47  Indicates if there was a change in diabetic me...  None             no  \n",
      "48  Indicates if there was any diabetic medication...  None             no  \n",
      "49  Days to inpatient readmission. Values: <30 if ...  None             no  \n"
     ]
    },
    {
     "name": "stderr",
     "output_type": "stream",
     "text": [
      "c:\\Users\\frase\\JupyterBasics\\PredictingDiabetesReadmission\\venv\\Lib\\site-packages\\ucimlrepo\\fetch.py:97: DtypeWarning: Columns (10) have mixed types. Specify dtype option on import or set low_memory=False.\n",
      "  df = pd.read_csv(data_url)\n"
     ]
    }
   ],
   "source": [
    "from ucimlrepo import fetch_ucirepo \n",
    "  \n",
    "# fetch dataset \n",
    "diabetes_130_us_hospitals_for_years_1999_2008 = fetch_ucirepo(id=296) \n",
    "  \n",
    "# data (as pandas dataframes) \n",
    "X = diabetes_130_us_hospitals_for_years_1999_2008.data.features \n",
    "y_raw = diabetes_130_us_hospitals_for_years_1999_2008.data.targets\n",
    "  \n",
    "# metadata \n",
    "print(diabetes_130_us_hospitals_for_years_1999_2008.metadata) \n",
    "  \n",
    "# variable information \n",
    "print(diabetes_130_us_hospitals_for_years_1999_2008.variables) "
   ]
  },
  {
   "cell_type": "markdown",
   "id": "eff7c996",
   "metadata": {},
   "source": [
    "The first thing to note is that there are two identification variables `encounter_ID` and `patient_nbr`, which should be discarded. Selecting the features attribute excludes them both. "
   ]
  },
  {
   "cell_type": "markdown",
   "id": "c8b12108",
   "metadata": {},
   "source": [
    "### 2.1 Missing Data"
   ]
  },
  {
   "cell_type": "code",
   "execution_count": 4,
   "id": "df0190fa",
   "metadata": {},
   "outputs": [
    {
     "data": {
      "text/plain": [
       "race                         2273\n",
       "gender                          0\n",
       "age                             0\n",
       "weight                      98569\n",
       "admission_type_id               0\n",
       "discharge_disposition_id        0\n",
       "admission_source_id             0\n",
       "time_in_hospital                0\n",
       "payer_code                  40256\n",
       "medical_specialty           49949\n",
       "num_lab_procedures              0\n",
       "num_procedures                  0\n",
       "num_medications                 0\n",
       "number_outpatient               0\n",
       "number_emergency                0\n",
       "number_inpatient                0\n",
       "diag_1                         21\n",
       "diag_2                        358\n",
       "diag_3                       1423\n",
       "number_diagnoses                0\n",
       "max_glu_serum               96420\n",
       "A1Cresult                   84748\n",
       "metformin                       0\n",
       "repaglinide                     0\n",
       "nateglinide                     0\n",
       "chlorpropamide                  0\n",
       "glimepiride                     0\n",
       "acetohexamide                   0\n",
       "glipizide                       0\n",
       "glyburide                       0\n",
       "tolbutamide                     0\n",
       "pioglitazone                    0\n",
       "rosiglitazone                   0\n",
       "acarbose                        0\n",
       "miglitol                        0\n",
       "troglitazone                    0\n",
       "tolazamide                      0\n",
       "examide                         0\n",
       "citoglipton                     0\n",
       "insulin                         0\n",
       "glyburide-metformin             0\n",
       "glipizide-metformin             0\n",
       "glimepiride-pioglitazone        0\n",
       "metformin-rosiglitazone         0\n",
       "metformin-pioglitazone          0\n",
       "change                          0\n",
       "diabetesMed                     0\n",
       "dtype: int64"
      ]
     },
     "execution_count": 4,
     "metadata": {},
     "output_type": "execute_result"
    }
   ],
   "source": [
    "X.isna().sum()"
   ]
  },
  {
   "cell_type": "markdown",
   "id": "91a7fab4",
   "metadata": {},
   "source": [
    "Three columns stand out as having lots of missing data: `weight`, `max_glu_serum` and `A1Cresult`. These have 96.9%, 94.7% and 83.3% missing values respectively.\n",
    "\n",
    "Unfortunately, all three of these features are very medically relevant and are likely to be very informative in a patient's readmission risk. \n",
    "\n",
    "`A1Cresult` is a measure of blood sugar levels over recent months and is used to monitor and diagnose diabetes. It is likely to be highly predictive. There are still 16.7% of values and so given the importance of the feature, we will keep it. Missingness might even be meaningful (if missing means no test was administered, for example), so imputing with a new 'missing' category may be informative. \n",
    "\n",
    "`max_glu_serum` is a measure of blood sugar levels at the point of testing, also used to monitor and diagnose diabetes. We would also expect this to be highly predictive, maybe even more so than A1C testing because it may have stronger implications for the future since it is more 'up-to-date'. Again, we will keep this column, imputing with 'missingness' for the same reasons as above.\n",
    "\n",
    "`weight`, as we see in the next section, is a categorical feature with fairly large buckets (25lbs). Without a height feature to compare to, it's difficult to use weight in a predictive sense, with no ability to calculate BMI which might give us a more accurate picture of its impact. Combined with the fact that it has the highest % of missing data, this leads us to drop the feature entirely. \n"
   ]
  },
  {
   "cell_type": "code",
   "execution_count": 5,
   "id": "ab8a87f2",
   "metadata": {},
   "outputs": [],
   "source": [
    "# Drop weight column\n",
    "X = X.drop('weight', axis=1)"
   ]
  },
  {
   "cell_type": "markdown",
   "id": "cf56ec51",
   "metadata": {},
   "source": [
    "### 2.2 Categorical Variables"
   ]
  },
  {
   "cell_type": "markdown",
   "id": "13b651a4",
   "metadata": {},
   "source": [
    "There is a high proportion of categorical data. Features like `age` are recorded categorically, in buckets (not numerically, as we might expect). These, and others like the medicine features, are all ordinal categorical features and should be encoded accordingly. "
   ]
  },
  {
   "cell_type": "markdown",
   "id": "6eafa521",
   "metadata": {},
   "source": [
    "`view_categorical_variables` allows us to see the unique values of each categorical variable: (full function in `transformers.py`)"
   ]
  },
  {
   "cell_type": "code",
   "execution_count": 6,
   "id": "3ba11776",
   "metadata": {},
   "outputs": [
    {
     "name": "stdout",
     "output_type": "stream",
     "text": [
      "\n",
      "race -> ['Caucasian' 'AfricanAmerican' nan 'Other' 'Asian' 'Hispanic']\n",
      "\n",
      "gender -> ['Female' 'Male' 'Unknown/Invalid']\n",
      "\n",
      "age -> ['[0-10)' '[10-20)' '[20-30)' '[30-40)' '[40-50)' '[50-60)' '[60-70)'\n",
      " '[70-80)' '[80-90)' '[90-100)']\n",
      "\n",
      "payer_code -> [nan 'MC' 'MD' 'HM' 'UN' 'BC' 'SP' 'CP' 'SI' 'DM' 'CM' 'CH' 'PO' 'WC' 'OT'\n",
      " 'OG' 'MP' 'FR']\n",
      "\n",
      "medical_specialty -> ['Pediatrics-Endocrinology' nan 'InternalMedicine'\n",
      " 'Family/GeneralPractice' 'Cardiology' 'Surgery-General' 'Orthopedics'\n",
      " 'Gastroenterology' 'Surgery-Cardiovascular/Thoracic' 'Nephrology'\n",
      " 'Orthopedics-Reconstructive' 'Psychiatry' 'Emergency/Trauma'\n",
      " 'Pulmonology' 'Surgery-Neuro' 'Obsterics&Gynecology-GynecologicOnco'\n",
      " 'ObstetricsandGynecology' 'Pediatrics' 'Hematology/Oncology'\n",
      " 'Otolaryngology' 'Surgery-Colon&Rectal' 'Pediatrics-CriticalCare'\n",
      " 'Endocrinology' 'Urology' 'Psychiatry-Child/Adolescent'\n",
      " 'Pediatrics-Pulmonology' 'Neurology' 'Anesthesiology-Pediatric'\n",
      " 'Radiology' 'Pediatrics-Hematology-Oncology' 'Psychology' 'Podiatry'\n",
      " 'Gynecology' 'Oncology' 'Pediatrics-Neurology' 'Surgery-Plastic'\n",
      " 'Surgery-Thoracic' 'Surgery-PlasticwithinHeadandNeck' 'Ophthalmology'\n",
      " 'Surgery-Pediatric' 'Pediatrics-EmergencyMedicine'\n",
      " 'PhysicalMedicineandRehabilitation' 'InfectiousDiseases' 'Anesthesiology'\n",
      " 'Rheumatology' 'AllergyandImmunology' 'Surgery-Maxillofacial'\n",
      " 'Pediatrics-InfectiousDiseases' 'Pediatrics-AllergyandImmunology'\n",
      " 'Dentistry' 'Surgeon' 'Surgery-Vascular' 'Osteopath'\n",
      " 'Psychiatry-Addictive' 'Surgery-Cardiovascular' 'PhysicianNotFound'\n",
      " 'Hematology' 'Proctology' 'Obstetrics' 'SurgicalSpecialty' 'Radiologist'\n",
      " 'Pathology' 'Dermatology' 'SportsMedicine' 'Speech' 'Hospitalist'\n",
      " 'OutreachServices' 'Cardiology-Pediatric' 'Perinatology'\n",
      " 'Neurophysiology' 'Endocrinology-Metabolism' 'DCPTEAM' 'Resident']\n",
      "\n",
      "diag_1 -> ['250.83' '276' '648' '8' '197' '414' '428' '398' '434' '250.7' '157'\n",
      " '518' '999' '410' '682' '402' '737' '572' 'V57' '189' '786' '427' '996'\n",
      " '277' '584' '462' '473' '411' '174' '486' '998' '511' '432' '626' '295'\n",
      " '196' '250.6' '618' '182' '845' '423' '808' '250.4' '722' '403' '250.11'\n",
      " '784' '707' '440' '151' '715' '997' '198' '564' '812' '38' '590' '556'\n",
      " '578' '250.32' '433' 'V58' '569' '185' '536' '255' '250.13' '599' '558'\n",
      " '574' '491' '560' '244' '250.03' '577' '730' '188' '824' '250.8' '332'\n",
      " '562' '291' '296' '510' '401' '263' '438' '70' '250.02' '493' '642' '625'\n",
      " '571' '738' '593' '250.42' '807' '456' '446' '575' '250.41' '820' '515'\n",
      " '780' '250.22' '995' '235' '250.82' '721' '787' '162' '724' '282' '514'\n",
      " 'V55' '281' '250.33' '530' '466' '435' '250.12' 'V53' '789' '566' '822'\n",
      " '191' '557' '733' '455' '711' '482' '202' '280' '553' '225' '154' '441'\n",
      " '250.81' '349' nan '962' '592' '507' '386' '156' '200' '728' '348' '459'\n",
      " '426' '388' '607' '337' '82' '531' '596' '288' '656' '573' '492' '220'\n",
      " '516' '210' '922' '286' '885' '958' '661' '969' '250.93' '227' '112'\n",
      " '404' '823' '532' '416' '346' '535' '453' '250' '595' '211' '303'\n",
      " '250.01' '852' '218' '782' '540' '457' '285' '431' '340' '550' '54' '351'\n",
      " '601' '723' '555' '153' '443' '380' '204' '424' '241' '358' '694' '331'\n",
      " '345' '681' '447' '290' '158' '579' '436' '335' '309' '654' '805' '799'\n",
      " '292' '183' '78' '851' '458' '586' '311' '892' '305' '293' '415' '591'\n",
      " '794' '803' '79' '655' '429' '278' '658' '598' '729' '585' '444' '604'\n",
      " '727' '214' '552' '284' '680' '708' '41' '644' '481' '821' '413' '437'\n",
      " '968' '756' '632' '359' '275' '512' '781' '420' '368' '522' '294' '825'\n",
      " '135' '304' '320' '250.31' '669' '868' '496' '250.43' '826' '567' '3'\n",
      " '203' '53' '251' '565' '161' '495' '49' '250.1' '297' '663' '576' '355'\n",
      " '850' '287' '250.2' '611' '840' '350' '726' '537' '620' '180' '366' '783'\n",
      " '11' '751' '716' '250.3' '199' '464' '580' '836' '664' '283' '813' '966'\n",
      " '289' '965' '184' '480' '608' '333' '972' '212' '117' '788' '924' '959'\n",
      " '621' '238' '785' '714' '942' '250.23' '710' '47' '933' '508' '478' '844'\n",
      " '7' '736' '233' '42' '250.5' '397' '395' '201' '421' '253' '250.92' '600'\n",
      " '494' '977' '39' '659' '312' '614' '647' '652' '646' '274' '861' '425'\n",
      " '527' '451' '485' '217' '250.53' '442' '970' '193' '160' '322' '581'\n",
      " '475' '623' '374' '582' '568' '465' '801' '237' '376' '150' '461' '913'\n",
      " '226' '617' '987' '641' '298' '790' '336' '362' '228' '513' '383' '746'\n",
      " '353' '911' '506' '873' '155' '860' '534' '802' '141' 'V45' '396' '310'\n",
      " '341' '242' '719' '239' '533' '616' '519' '301' 'V66' '5' '989' '230'\n",
      " '385' '300' '853' '871' '570' '848' '463' '9' '934' '250.21' '236' '361'\n",
      " '594' '501' '810' '643' '430' '528' '205' '791' '983' '992' '490' '172'\n",
      " '171' '622' '306' '863' '864' '474' '660' '759' '356' '634' '967' '551'\n",
      " '695' '187' '732' '747' '323' '308' '370' '252' '152' '846' '164' '365'\n",
      " '718' '48' '266' '720' '94' '344' '797' '170' '878' '904' 'V56' '882'\n",
      " '843' '709' '973' '454' '686' '939' '487' '229' '991' '483' '357' '692'\n",
      " '796' '693' '935' '936' '800' '920' 'V26' '261' '307' '262' '250.9' '831'\n",
      " '145' '223' 'V71' '839' '685' 'V54' '35' '34' '179' '964' '136' '324'\n",
      " '389' '815' '334' '143' '526' '588' '192' 'V67' '394' '917' '88' '219'\n",
      " '325' '792' '717' '994' '990' '793' '207' '637' '195' '373' '847' '827'\n",
      " '31' '891' '814' 'V60' '703' '865' '352' '627' '378' '342' '886' '369'\n",
      " '745' '705' '816' '541' '986' '610' '633' '640' '753' '173' '835' '379'\n",
      " '445' '272' '382' '945' '619' '881' '250.52' '866' '405' '916' '215'\n",
      " '893' '75' '671' '928' '906' '897' '725' '867' '115' '890' '734' '521'\n",
      " '674' '470' '834' '146' '696' '524' '980' '691' '384' '142' '879'\n",
      " '250.51' '246' '208' '448' '955' '653' '149' '245' '735' '883' '854'\n",
      " '952' '838' '194' 'V43' '163' '216' '147' '354' '27' '477' '318' '880'\n",
      " '921' '377' '471' '683' '175' '602' '250.91' '982' '706' '375' '417'\n",
      " '131' '347' '870' '148' '862' '61' '817' '914' '360' '684' '314' 'V63'\n",
      " '36' '57' '240' '915' '971' '795' '988' '452' '963' '327' '731' '842'\n",
      " 'V25' '645' '665' '110' '944' '603' '923' '412' '363' '957' '976' '698'\n",
      " '299' '700' '273' '974' '97' '529' '66' '98' '605' '941' '52' '806' '84'\n",
      " '271' '837' '657' '895' '338' '523' '542' '114' '543' '372' 'V70' 'E909'\n",
      " '583' 'V07' '422' '615' '279' '500' '903' '919' '875' '381' '804' '704'\n",
      " '23' '58' '649' '832' '133' '975' '833' '391' '690' '10' 'V51']\n",
      "\n",
      "diag_2 -> [nan '250.01' '250' '250.43' '157' '411' '492' '427' '198' '403' '288'\n",
      " '998' '507' '174' '425' '456' '401' '715' '496' '428' '585' '250.02'\n",
      " '410' '999' '996' '135' '244' '41' '571' '276' '997' '599' '424' '491'\n",
      " '553' '707' '286' '440' '493' '242' '70' 'V45' '250.03' '357' '511' '196'\n",
      " '396' '197' '414' '250.52' '577' '535' '413' '285' '53' '780' '518' '150'\n",
      " '566' '250.6' '867' '486' 'V15' '8' '788' '340' '574' '581' '228' '530'\n",
      " '250.82' '786' '294' '567' '785' '512' '305' '729' '250.51' '280' '648'\n",
      " '560' '618' '444' '38' 'V10' '578' '277' '781' '250.42' '278' '426' '584'\n",
      " '462' '402' '153' '272' '733' '34' '881' '203' '250.41' '250.13' '293'\n",
      " '245' '250.12' '558' '787' '342' '573' '626' '303' '250.53' '458' '710'\n",
      " '415' 'V42' '284' '569' '759' '682' '112' '292' '435' '290' '250.93'\n",
      " '642' '536' '398' '319' '711' 'E878' '446' '255' 'V44' '250.7' '784'\n",
      " '300' '562' '162' '287' '447' '789' '790' '591' '200' '154' '304' '117'\n",
      " '847' '852' '250.83' '250.11' '816' '575' '416' '412' '441' '515' '372'\n",
      " '482' '382' 'V65' '572' '283' '78' '250.81' '576' '432' '595' '295' 'V12'\n",
      " '204' '466' '721' '434' '590' '271' '813' '368' '227' '783' '250.5' '258'\n",
      " '253' '309' '250.91' '519' '333' '459' '250.92' '250.4' '179' '420' '345'\n",
      " '433' '661' '537' '205' '722' '405' '437' '714' '211' 'E812' '263' '202'\n",
      " '397' '250.23' 'E932' '201' '301' '723' '614' '568' '861' 'V57' '724'\n",
      " '189' '297' '453' 'E888' '730' '354' '451' '738' 'E939' '805' 'V43' '155'\n",
      " '910' '218' '358' '220' 'E937' '583' '958' '794' '564' '436' '250.22'\n",
      " '620' '621' '331' '617' '596' '314' '378' '250.8' '625' '478' '731' '172'\n",
      " '404' '681' '470' '279' '281' '531' '443' '799' '337' '311' '719' 'E944'\n",
      " '423' 'E870' '465' 'E849' '782' '481' '480' 'V23' '199' '79' '438' '348'\n",
      " '42' 'E950' '473' '627' '726' '54' '490' '317' '332' '508' '369' '600'\n",
      " '349' '485' '208' '922' '431' '296' 'E934' '753' 'E935' '386' '728' '607'\n",
      " 'E915' '344' '716' '289' '191' '873' '850' '611' '377' '352' '616' 'V17'\n",
      " '136' '455' '933' 'E885' '860' '513' '603' '484' '223' 'V72' '291' '151'\n",
      " 'V58' '550' '510' '891' '185' '592' '791' '138' '598' '336' '362' '217'\n",
      " '825' '298' '821' 'E880' '343' '429' 'E879' '579' '225' '250.9' 'V49'\n",
      " '696' '233' '658' '969' '275' '250.1' '601' '704' '808' 'E890' 'V18'\n",
      " '920' '380' '570' 'E817' '359' '812' '274' 'V14' '324' '758' 'V66' '911'\n",
      " 'E931' 'E924' '593' '792' '727' 'V46' '394' '532' 'V64' '557' '864' '718'\n",
      " 'E942' '807' '604' '924' '820' '580' '273' '241' '282' '824' 'V61' '646'\n",
      " '701' '736' '565' '383' '250.2' 'E947' '452' '872' '905' 'E930' '921'\n",
      " '131' '448' '389' '421' '214' '705' '494' '752' '623' '9' '299' '959'\n",
      " '365' '967' 'E858' '40' '691' '909' '5' '814' '746' '250.31' '556' '680'\n",
      " '745' '351' '306' '110' '695' '552' '346' '918' '882' '947' '520' '188'\n",
      " '31' '356' '737' 'V08' '322' '182' '517' '974' 'E929' 'V53' '912' '252'\n",
      " '608' '516' 'E933' '94' '702' '923' '594' '647' '111' '934' '430' '487'\n",
      " '709' '796' '156' '977' '915' '756' '840' '341' '259' '693' '725' 'V62'\n",
      " '528' '683' '953' '457' '501' 'E900' 'V09' '522' '919' '461' '506' '193'\n",
      " '483' 'E936' '717' '802' '335' 'V54' '320' '945' '906' '239' '454' '826'\n",
      " '823' 'E941' '226' '795' '684' '844' '250.33' '308' '615' '588' '712'\n",
      " '663' '706' '833' '741' '713' '533' 'E884' '586' '555' '755' 'E928' '742'\n",
      " '869' '962' 'V11' '543' '373' '870' '913' '152' '810' '965' '907' '908'\n",
      " '995' '845' '474' '442' '751' '323' '472' '464' '686' '250.32' '540'\n",
      " '251' '811' '652' '659' '851' '422' '815' '307' '325' '463' '992' '692'\n",
      " '521' '917' 'E965' '524' '916' 'E813' '173' '238' '137' '514' '312' '837'\n",
      " '355' '980' '622' '475' '500' '754' '261' '801' '868' '968' '381' '11'\n",
      " '250.21' '694' '610' '734' 'E814' '310' '130' '246' '892' '846' '634'\n",
      " '75' 'E927' 'E905' '183' '379' 'E917' '163' 'E868' '495' '747' '989'\n",
      " 'E854' '240' '832' '605' '602' '644' 'V16' '35' 'V70' '376' '266' 'E918'\n",
      " '619' '477' '656' '46' '883' '171' 'V13' '698' '842' 'E850' '800' '269'\n",
      " '664' 'E887' '952' '164' 'E881' '527' '685' '366' '836' '27' 'V63' '865'\n",
      " '793' '232' '990' '52' '831' '327' '542' '806' '972' '862' 'E829' 'E919'\n",
      " '944' 'E916' '963' '316' '645' '347' 'V85' '374' 'V02' '748' '256' '186'\n",
      " '866' '975' '96' '395' '262' 'E819' '654' '994' '318' 'E826' '879' '674'\n",
      " '641' '822' '145' '797' '353' 'E938' 'E816' '948' '987' '99' '192'\n",
      " '250.3' 'E906' '534' '115' 'E818' 'E980' '360' '338' '529' '871' '750'\n",
      " '212' '302' '955' '141' '88' 'V25' '215' '350' 'V50' 'V03' 'E853' 'E968'\n",
      " 'E882' '140' '703' '991' '893' 'E821' '235' 'V69' '670' '195' 'V55' '388'\n",
      " '268' '894' '114' '260' '853' '7' '880' 'V86' '180' 'E945' '523' '863'\n",
      " '649' '270' '665' '460' '942' '364' '66' 'E883' '123' '884' 'V60' '843'\n",
      " '927']\n",
      "\n",
      "diag_3 -> [nan '255' 'V27' '403' '250' 'V45' '38' '486' '996' '197' '250.6' '427'\n",
      " '627' '414' '416' '714' '428' '582' 'V43' '250.01' '263' '250.42' '276'\n",
      " '482' '401' '250.41' '585' '781' '278' '998' '568' '682' '618' '250.02'\n",
      " '305' '707' '496' '599' '715' '424' '518' '553' '794' '411' 'V42' '531'\n",
      " '511' '490' '562' '250.8' '250.7' '250.52' '784' '491' '581' '420' '8'\n",
      " '724' '730' '789' '131' '250.82' '999' '41' '493' '250.03' '753' '786'\n",
      " '529' 'E888' '425' '595' '303' '560' '711' '492' '332' '296' '438' '362'\n",
      " '250.4' '654' '244' 'V70' '737' '625' '681' '250.51' '404' 'V10' '810'\n",
      " '280' '440' '785' '588' '569' '272' '997' '250.43' '918' '584' '54' '788'\n",
      " '426' '722' '250.92' '196' '461' '535' '787' '891' '284' '458' '648'\n",
      " '780' '182' '285' '593' '413' '664' '564' '201' '356' 'V15' '292' '782'\n",
      " '473' '455' 'E932' '357' '348' '294' '250.23' '459' 'E878' '437' '733'\n",
      " '507' '525' '250.53' '397' '572' '805' '453' '331' '736' '402' '591'\n",
      " '576' '465' '533' '703' '349' '315' '658' '608' '578' '716' '382' '300'\n",
      " '282' '571' '536' '596' '287' '644' 'V11' '558' 'E885' '162' '198' '218'\n",
      " '412' '396' 'V14' '570' '433' 'E934' '882' '288' '577' '443' '729' '836'\n",
      " '295' '799' '281' '304' '153' '410' '616' '250.83' '601' '291' '75' '512'\n",
      " '660' '250.5' '598' '337' '574' '653' 'V58' '311' '415' '386' '602' '790'\n",
      " '112' '873' '620' '436' '70' '155' '138' '663' '530' '710' '42' '342'\n",
      " '250.91' 'E884' '515' '307' '704' '728' '731' '583' '238' '441' '293'\n",
      " '573' '532' '290' '594' '319' '250.13' '250.12' '519' '346' '380' '135'\n",
      " '642' '698' '924' '905' 'E933' '555' '309' 'E879' '286' '565' '752' '580'\n",
      " '446' '444' '344' '252' '35' '813' '394' '301' '575' '258' 'V17' '802'\n",
      " '435' '746' 'V12' '709' '881' 'E935' '139' '250.81' '718' '365' '202'\n",
      " '334' '185' '398' 'V44' '517' 'E849' '614' '466' '626' '250.9' '368'\n",
      " '605' '883' '289' '478' '617' '429' '442' 'V25' '866' '610' '557' '959'\n",
      " 'E942' '94' '920' '345' '313' '379' '79' '516' '586' '821' '600' '242'\n",
      " '373' '592' 'V64' '487' '253' '706' 'E947' '117' '340' 'E950' '656'\n",
      " 'E949' '590' 'V09' '250.22' '934' '694' '203' '250.93' '995' '726' '923'\n",
      " '958' '275' 'E929' '211' 'V18' 'V66' '199' '665' '53' '279' '522' '791'\n",
      " '890' '456' 'E938' 'E816' '122' '721' 'V65' '136' '480' '423' 'E920'\n",
      " '793' '647' '537' '351' '845' '336' '274' '719' '945' '434' '494' '227'\n",
      " '157' '208' '174' 'V57' '812' '734' '150' 'V23' '447' '692' '228' 'V16'\n",
      " '756' '405' 'E928' '823' '552' '528' '389' '240' '454' '792' '366' 'E939'\n",
      " '907' '270' '310' '266' '387' 'E931' '783' '245' '607' '355' 'E930' '705'\n",
      " '372' '369' '611' '283' 'V46' '110' '867' 'E956' '251' '250.2' '820'\n",
      " '712' '695' '567' '343' '723' 'V08' '273' '623' '807' '451' '495' '701'\n",
      " '34' 'V53' '314' '472' 'E945' '11' '189' '534' '354' '333' 'V54' '277'\n",
      " '659' '708' '452' '655' '816' '670' '621' '246' '953' '865' 'E817' '646'\n",
      " '151' '378' '78' '298' '840' '641' '521' '745' '619' '912' '506' 'E904'\n",
      " '259' 'E870' 'E980' '383' '204' '696' '566' '727' '47' 'E943' '358' '191'\n",
      " '965' '921' '432' '27' 'E861' '758' '477' '524' '751' '652' '556' '188'\n",
      " '825' '919' '732' '908' '951' '962' '685' 'E850' 'E944' '527' '341' '693'\n",
      " '250.1' 'V49' '860' '323' 'V55' '579' '508' '969' '205' '462' 'E880'\n",
      " '680' '697' '826' '200' '457' '717' '738' '742' '735' '235' '308' '725'\n",
      " '241' '824' '464' '260' '917' '239' '661' '892' '261' 'E883' '943' '744'\n",
      " 'E936' '796' '318' '967' '350' '854' 'E905' '9' '741' 'E941' '170' '643'\n",
      " '317' '759' '909' 'V22' '831' '713' '180' '801' '360' '359' '501' '335'\n",
      " '250.11' '306' '811' '690' 'V02' '271' '214' '847' '543' 'V63' '906'\n",
      " '842' '686' '445' '808' '861' 'E852' '220' 'E887' 'E858' '915' '970'\n",
      " '256' '747' '395' '243' '815' '481' '5' 'E927' '297' '299' '851' '864'\n",
      " '922' '384' 'E876' '225' '158' 'E937' '871' '88' '966' 'E917' 'E812'\n",
      " 'V62' 'E924' '604' '233' 'E916' '377' '797' 'V72' '172' '7' '421' '852'\n",
      " 'E819' '972' '916' '956' '3' 'E965' '173' '193' '154' '347' '862' '250.3'\n",
      " '987' '470' '262' 'E855' '161' '115' '179' '910' '312' '17' '460' '265'\n",
      " '66' '163' 'V60' '870' 'E906' '514' '944' '844' '417' '152' '183' '991'\n",
      " '216' '385' '164' '935' '510' '814' '485' '850' '250.21' 'E919' '872'\n",
      " '195' '431' '597' '933' '171' '884' '156' '868' '483' 'E815' '542' 'V61'\n",
      " '853' '374' 'E881' 'E882' 'E822' '192' '754' '327' '523' '500' 'V85'\n",
      " '992' '657' '684' '603' 'E826' '550' '913' '376' '755' '361' '186' '720'\n",
      " '250.31' '674' '911' 'E813' '226' '365.44' 'E818' '146' '955' 'E894'\n",
      " '475' 'V13' '880' '930' 'E915' '381' '132' '353' '795' '893' 'V01' 'E853'\n",
      " '863' '540' 'E828' '430' '800' 'E865' '148' 'E946' '822' '879' '848'\n",
      " 'V86' 'V03' '338' '989' '388' 'E966' '111' 'E922' '123' '757' 'E901'\n",
      " '141' '268' 'E892' '649' '702' '948' '223' '484' 'E886' '838' '928' '236'\n",
      " '624' '837' 'E987' 'V07' '841' '622' 'E912' 'E955' '463' 'V06' 'E864'\n",
      " '217' '877' '391' 'E825' '952' '669' '875' 'E900' '215' '538' '980' '834'\n",
      " '448' '175' '49' '876' '230' '57' 'E854' '942' '14' '750' '370' '671'\n",
      " '971']\n",
      "\n",
      "max_glu_serum -> [nan '>300' 'Norm' '>200']\n",
      "\n",
      "A1Cresult -> [nan '>7' '>8' 'Norm']\n",
      "\n",
      "metformin -> ['No' 'Steady' 'Up' 'Down']\n",
      "\n",
      "repaglinide -> ['No' 'Up' 'Steady' 'Down']\n",
      "\n",
      "nateglinide -> ['No' 'Steady' 'Down' 'Up']\n",
      "\n",
      "chlorpropamide -> ['No' 'Steady' 'Down' 'Up']\n",
      "\n",
      "glimepiride -> ['No' 'Steady' 'Down' 'Up']\n",
      "\n",
      "acetohexamide -> ['No' 'Steady']\n",
      "\n",
      "glipizide -> ['No' 'Steady' 'Up' 'Down']\n",
      "\n",
      "glyburide -> ['No' 'Steady' 'Up' 'Down']\n",
      "\n",
      "tolbutamide -> ['No' 'Steady']\n",
      "\n",
      "pioglitazone -> ['No' 'Steady' 'Up' 'Down']\n",
      "\n",
      "rosiglitazone -> ['No' 'Steady' 'Up' 'Down']\n",
      "\n",
      "acarbose -> ['No' 'Steady' 'Up' 'Down']\n",
      "\n",
      "miglitol -> ['No' 'Steady' 'Down' 'Up']\n",
      "\n",
      "troglitazone -> ['No' 'Steady']\n",
      "\n",
      "tolazamide -> ['No' 'Steady' 'Up']\n",
      "\n",
      "examide -> ['No']\n",
      "\n",
      "citoglipton -> ['No']\n",
      "\n",
      "insulin -> ['No' 'Up' 'Steady' 'Down']\n",
      "\n",
      "glyburide-metformin -> ['No' 'Steady' 'Down' 'Up']\n",
      "\n",
      "glipizide-metformin -> ['No' 'Steady']\n",
      "\n",
      "glimepiride-pioglitazone -> ['No' 'Steady']\n",
      "\n",
      "metformin-rosiglitazone -> ['No' 'Steady']\n",
      "\n",
      "metformin-pioglitazone -> ['No' 'Steady']\n",
      "\n",
      "change -> ['No' 'Ch']\n",
      "\n",
      "diabetesMed -> ['No' 'Yes']\n",
      "\n",
      "admission_type_id -> [6 1 2 3 4 5 8 7]\n",
      "\n",
      "discharge_disposition_id -> [25  1  3  6  2  5 11  7 10  4 14 18  8 13 12 16 17 22 23  9 20 15 24 28\n",
      " 19 27]\n",
      "\n",
      "admission_source_id -> [ 1  7  2  4  5  6 20  3 17  8  9 14 10 22 11 25 13]\n"
     ]
    }
   ],
   "source": [
    "view_categorical_variables(X)"
   ]
  },
  {
   "cell_type": "markdown",
   "id": "b2c3c8ef",
   "metadata": {},
   "source": [
    "Of great notice here are a few very high cardinality NOMINAL features: `diag_1/2/3`, `medical_specialty`, `payer_code`, `discharge_disposition_id`, `admission_source_id`. These cause massive feature explosion when using one-hot encoding. \n",
    "\n",
    "With tree-based models, we can use ordinal encodings instead to avoid this issue, because tree-based models won't inherently evaluate arithmetic differences between categories (they don't see them as continuous values). Even so, ordinal encoding a very high number of values makes it far more difficult to find effective splits, so performance might be negatively affected.\n",
    "\n",
    "With linear models, using ordinal encodings is not an option since it will interpret the new numerical input linearly, which we don't want in a nominal category. \n",
    "\n",
    "Therefore, we should take steps to reduce the cardinalities of these features, and avoid feature explosion. This will be done in the custom transformers `DiagnosisCategoriser` and `CategorySetter`."
   ]
  },
  {
   "cell_type": "markdown",
   "id": "60ddac7e",
   "metadata": {},
   "source": [
    "### 2.3 Data Imbalance"
   ]
  },
  {
   "cell_type": "markdown",
   "id": "2327c50f",
   "metadata": {},
   "source": [
    "Another challenge here is the large class imbalance in the data, once reduced into binary classification. "
   ]
  },
  {
   "cell_type": "code",
   "execution_count": 7,
   "id": "e76b42b2",
   "metadata": {},
   "outputs": [
    {
     "name": "stdout",
     "output_type": "stream",
     "text": [
      "Negative class proportion: 88.84%\n"
     ]
    }
   ],
   "source": [
    "# convert target into a binary variable\n",
    "y = (y_raw == '<30').astype(int)\n",
    "\n",
    "neg_class_size = int((y == 0).sum().item())\n",
    "pos_class_size = int((y == 1).sum().item())\n",
    "\n",
    "print(f'Negative class proportion: {(100*(neg_class_size)/(pos_class_size+neg_class_size)):.2f}%')"
   ]
  },
  {
   "cell_type": "markdown",
   "id": "057b3cd3",
   "metadata": {},
   "source": [
    "To overcome this, I will test three different approaches and compare the results: undersampling, oversampling and no modification. I will go into more detail on the approaches and why they were chosen in [Handling Class Imbalance](#Handling-Class-Imbalance)."
   ]
  },
  {
   "cell_type": "markdown",
   "id": "8f4e9138",
   "metadata": {},
   "source": [
    "### 2.4 MI Scores"
   ]
  },
  {
   "cell_type": "markdown",
   "id": "85070d5e",
   "metadata": {},
   "source": [
    "Finally, I will compute MI scores to get a quick insight into which features have strong statistical relationships with the target variable. I will use these scores to inform feature engineering. (Function is found in `functions.py`)"
   ]
  },
  {
   "cell_type": "code",
   "execution_count": 8,
   "id": "3344c48a",
   "metadata": {},
   "outputs": [
    {
     "name": "stderr",
     "output_type": "stream",
     "text": [
      "c:\\Users\\frase\\JupyterBasics\\PredictingDiabetesReadmission\\venv\\Lib\\site-packages\\sklearn\\utils\\validation.py:1406: DataConversionWarning: A column-vector y was passed when a 1d array was expected. Please change the shape of y to (n_samples, ), for example using ravel().\n",
      "  y = column_or_1d(y, warn=True)\n"
     ]
    },
    {
     "data": {
      "text/plain": [
       "<Axes: >"
      ]
     },
     "execution_count": 8,
     "metadata": {},
     "output_type": "execute_result"
    },
    {
     "data": {
      "image/png": "[encoded data removed]",
      "text/plain": [
       "<Figure size 1000x800 with 1 Axes>"
      ]
     },
     "metadata": {},
     "output_type": "display_data"
    }
   ],
   "source": [
    "make_mi_scores(X, y).plot(kind='barh', figsize=(10, 8))"
   ]
  },
  {
   "cell_type": "markdown",
   "id": "3b560f14",
   "metadata": {},
   "source": [
    "## 3. Feature Engineering & Custom Transformers"
   ]
  },
  {
   "cell_type": "markdown",
   "id": "3bb74350",
   "metadata": {},
   "source": [
    "Firstly, I split features into categories, so that my custom transformers can be applied to the correct columns in my pipelines."
   ]
  },
  {
   "cell_type": "code",
   "execution_count": 9,
   "id": "7ecc08fd",
   "metadata": {},
   "outputs": [],
   "source": [
    "# nominal features\n",
    "nom_cat_features = ['race', 'gender', 'payer_code','medical_specialty',\n",
    "                'change', 'diabetesMed', 'admission_type_id','discharge_disposition_id',\n",
    "                'admission_source_id']\n",
    "\n",
    "\n",
    "medicine_features = ['metformin','repaglinide','nateglinide','chlorpropamide','glimepiride','acetohexamide',\n",
    "                     'glipizide','glyburide','tolbutamide','pioglitazone','rosiglitazone','acarbose',\n",
    "                     'miglitol','troglitazone','tolazamide','examide','citoglipton','insulin','glyburide-metformin',\n",
    "                     'glipizide-metformin','glimepiride-pioglitazone','metformin-rosiglitazone','metformin-pioglitazone']\n",
    "\n",
    "ord_cat_features = medicine_features + ['age', 'max_glu_serum', 'A1Cresult']\n",
    "\n",
    "# numeric features of X, excluding irrelevant features encounter_id and patient_nbr\n",
    "num_features = ['time_in_hospital', 'num_lab_procedures', 'num_procedures', 'num_medications',\n",
    "                 'number_outpatient', 'number_emergency', 'number_inpatient', 'number_diagnoses']\n",
    "\n",
    "final_num_features = num_features + ['hosp_interaction', 'emergency_ratio', 'visit_intensity']\n",
    "\n",
    "cat_features = nom_cat_features + ord_cat_features + ['diag_1', 'diag_2', 'diag_3']\n",
    "\n",
    "cat_features_indices = [X.columns.get_loc(col) for col in cat_features]\n"
   ]
  },
  {
   "cell_type": "markdown",
   "id": "cd3ddf6d",
   "metadata": {},
   "source": [
    "### 3.1 Imputation"
   ]
  },
  {
   "cell_type": "markdown",
   "id": "e821a72b",
   "metadata": {},
   "source": [
    "To deal with missing data, we define `GlobalImputer`, a custom transformer that imputes median value for numerical features and a new 'missing' value for categorical features (full code in `transformers.py`)\n",
    "\n",
    "A new 'missing' value is preferred because for many features (like `diag_1`, or `A1Cresult` as discussed earlier), a missing value holds important information and should be treated accordingly. "
   ]
  },
  {
   "cell_type": "code",
   "execution_count": 10,
   "id": "caa94808",
   "metadata": {},
   "outputs": [],
   "source": [
    "# instantiate the GlobalImputer class (used later in our pipeline)\n",
    "imputer = GlobalImputer(num_features=num_features, cat_features=cat_features)"
   ]
  },
  {
   "cell_type": "markdown",
   "id": "cfbd2868",
   "metadata": {},
   "source": [
    "### 3.2 Feature Engineering"
   ]
  },
  {
   "cell_type": "markdown",
   "id": "01138c90",
   "metadata": {},
   "source": [
    "We choose to engineer only numerical features, due to the relatively higher MI scores (outside of the diagnoses features - for which we already have a derivative feature `number_diagnoses`) and also simplicity.\n",
    "\n",
    "In the future, I would like to experiment more with categorical feature engineering - especially looking more closely at `diag_1/2/3`."
   ]
  },
  {
   "cell_type": "markdown",
   "id": "7a0c33d7",
   "metadata": {},
   "source": [
    "Engineered features: \n",
    "- `X['hosp_interaction'] = X['number_outpatient'] + X['number_emergency'] + X['number_inpatient']`\n",
    "\n",
    "Total hospital interactions in the previous year. \n",
    "\n",
    "- `X['emergency_ratio'] = X['number_emergency'] / (X['hosp_interaction'] + 1)`\n",
    "\n",
    "Ratio of emergency visits to total visits.\n",
    "\n",
    "- `X['visit_intensity'] = (X['num_procedures'] + X['num_lab_procedures'] + X['num_medications']) / (X['time_in_hospital'])`\n",
    "\n",
    "A measure of how many 'actions' were taken during the visit. (Denominator is always non-zero so division is safe.)\n",
    "\n",
    "`FeatureEngineer` is found in `transformers.py`."
   ]
  },
  {
   "cell_type": "code",
   "execution_count": 11,
   "id": "ce36d4d9",
   "metadata": {},
   "outputs": [],
   "source": [
    "# instantiate the FeatureEngineer class (used later in our pipeline)\n",
    "featureEngineer = FeatureEngineer()"
   ]
  },
  {
   "cell_type": "markdown",
   "id": "81b41b5c",
   "metadata": {},
   "source": [
    "### 3.3 Grouping Diagnoses Values To Reduce Cardinality"
   ]
  },
  {
   "cell_type": "markdown",
   "id": "02d343b4",
   "metadata": {},
   "source": [
    "`DiagnosisCategoriser` is a custom transformer class which buckets diagnoses codes according to the type of diagnosis (found in `transformers.py`).\n",
    "\n",
    "The features `diag_1`, `diag_2` and `diag_3` all contain ICD-9 codes, which can be conveniently grouped according to their first digit. This reduces the number of unique values from 716 to 20, but preserves diagnostic information because the groupings are meaningful. "
   ]
  },
  {
   "cell_type": "code",
   "execution_count": 12,
   "id": "2dc705b1",
   "metadata": {},
   "outputs": [],
   "source": [
    "# instantiate the DiagnosisCategoriser class (used later in our pipeline)\n",
    "DiagCategoriser = DiagnosisCategoriser()"
   ]
  },
  {
   "cell_type": "markdown",
   "id": "2147bfd8",
   "metadata": {},
   "source": [
    "### 3.4 Encoding"
   ]
  },
  {
   "cell_type": "markdown",
   "id": "079f9121",
   "metadata": {},
   "source": [
    "`CategorySetter` is a custom transformer class that prepares categorical features for encoding (found in `transformers.py`).\n",
    "\n",
    "For high cardinality features, we include the top 10 most common values and bucket the rest into a new value `other`. \n",
    "We give all nominal features the category data type (some were integer initially) and add a category for the new imputed 'missing' values.\n",
    "\n",
    "For ordinal categorical features, we use define orderings and apply them using `.astype(CategoricalDtype(categories=levels, ordered=True))`, so they can be later interpreted by `OrdinalEncoder`.\n",
    "\n",
    "We will apply CategorySetter twice (once to nominal feature columns and once to ordinal feature columns), so it takes the targeted feature names as an argument."
   ]
  },
  {
   "cell_type": "code",
   "execution_count": 13,
   "id": "60abdc18",
   "metadata": {},
   "outputs": [],
   "source": [
    "# instantiate the CategorySetter to be applied to nominal features\n",
    "NominalCategorySetter = CategorySetter([feature for feature in nom_cat_features])\n",
    "\n",
    "# instantiate the CategorySetter to be applied to ordinal features (except diag_1, diag_2, diag_3)\n",
    "OrdinalCategorySetter = CategorySetter([feature for feature in ord_cat_features if feature not in ['diag_1', 'diag_2', 'diag_3']])"
   ]
  },
  {
   "cell_type": "markdown",
   "id": "1fbadc99",
   "metadata": {},
   "source": [
    "## 4. Handling Class Imbalance"
   ]
  },
  {
   "cell_type": "markdown",
   "id": "88630084",
   "metadata": {},
   "source": [
    "As seen earlier, the negative class dominates the sample with a majority of ~89%. \n",
    "Class imbalance is of particular concern in this problem.\n",
    "\n",
    "False negatives (when the model predicts no readmission but the patient is readmitted) are to be minimised. Such a scenario indicates that an at-risk patient has been missed, and the opportunity for preventative action not taken. They are less desirable than false positives, which although implying extra costs in time or treatment, is less costly than later readmission.\n",
    "\n",
    "With such a severe imbalance in its favour, we expect the model to perform far better on the negative class. It's likely that the model doesn't predict many positives at all, which would leave us with lots of false negatives. \n",
    "\n",
    "These considerations make it all the more important to take steps that can minimise the impact of this imbalance.\n",
    "Here, three different approaches (oversampling, undersampling, no action) are taken and the results compared."
   ]
  },
  {
   "cell_type": "markdown",
   "id": "ff9aa4e6",
   "metadata": {},
   "source": [
    "### 4.1 No Sampling"
   ]
  },
  {
   "cell_type": "markdown",
   "id": "a46aae36",
   "metadata": {},
   "source": [
    "The first approach is not to apply any sampling techniques at all. We might hope that the trends in the positive class are so clear that models are still able to identify them, despite the low quantity of data. There is also the opportunity to instead change the treshold of predictions to a much lower value, thus making the model more likely to predict positives and reduce the number of false negatives. "
   ]
  },
  {
   "cell_type": "markdown",
   "id": "65d772ea",
   "metadata": {},
   "source": [
    "### 4.2 Oversampling"
   ]
  },
  {
   "cell_type": "markdown",
   "id": "3a1eceec",
   "metadata": {},
   "source": [
    "To oversample, we take the approach of creating synthetic data by employing SMOTE (Synthetic Minority Over-sampling Technique), instead of duplicating the few positive examples. This is done to avoid overfitting based on a very small number of positive instances. \n",
    "\n",
    "Here, we use `SMOTENC`, a function which accepts categorical data to create `SMOTENCSampler` (found in `transformers.py`)."
   ]
  },
  {
   "cell_type": "code",
   "execution_count": 14,
   "id": "aae45641",
   "metadata": {},
   "outputs": [],
   "source": [
    "# instantiate the SMOTENCSampler class used in pipelines\n",
    "smotenc = SMOTENCSampler(cat_features_indices=cat_features_indices, random_state=0)"
   ]
  },
  {
   "cell_type": "markdown",
   "id": "557fe298",
   "metadata": {},
   "source": [
    "### 4.3 Undersampling"
   ]
  },
  {
   "cell_type": "markdown",
   "id": "51bffc1c",
   "metadata": {},
   "source": [
    "To undersample, we use `RandomUnderSampler` to create transformer `UnderSampler` (found in `transformers.py`)."
   ]
  },
  {
   "cell_type": "code",
   "execution_count": 15,
   "id": "f7e236d9",
   "metadata": {},
   "outputs": [],
   "source": [
    "# instantiate the UnderSampler class used in pipelines\n",
    "undersample = UnderSampler(random_state=0)"
   ]
  },
  {
   "cell_type": "markdown",
   "id": "6fdcadf5",
   "metadata": {},
   "source": [
    "### 4.4 Implementation"
   ]
  },
  {
   "cell_type": "markdown",
   "id": "e08b8a8b",
   "metadata": {},
   "source": [
    "These transformers use `fit_resample` methods, which can be applied in `imblearn` pipelines but not `sklearn`. \n",
    "They will be applied always as the first step in the pipeline. We do not want to generate synthetic data based on engineered features, or rescaled/encoded data. Any preprocessing will be done after the sampling has taken place, to preserve data integrity. "
   ]
  },
  {
   "cell_type": "markdown",
   "id": "2d9904dc",
   "metadata": {},
   "source": [
    "## 5. Building Modelling Pipelines"
   ]
  },
  {
   "cell_type": "markdown",
   "id": "ed576875",
   "metadata": {},
   "source": [
    "### 5.1 The `build_pipeline` Function"
   ]
  },
  {
   "cell_type": "markdown",
   "id": "3190e66b",
   "metadata": {},
   "source": [
    "The function `build_pipeline` (found in `functions.py`) will build the pipelines, taking four main arguments. \n",
    "1. `model` - the classifier used. Here we will compare three: Logistic Regression, Random Forest and xgboost.\n",
    "2. `model_type` - whether the classifier is linear or tree-based, which will affect encoding decisions. \n",
    "3. `include_feat_eng` - whether to include engineered features.\n",
    "4. `sampling` - the sampling method to use.\n",
    "\n",
    "It also takes as arguments the `nom_cat_features`, `ord_cat_features`, `final_num_features` and `cat_features_indices`. \n",
    "This is to preserve modularity, though they will not be varied here. \n",
    "\n",
    "This modular approach allows much easier testing, to measure the impact of different steps and approaches. "
   ]
  },
  {
   "cell_type": "markdown",
   "id": "516f8f7f",
   "metadata": {},
   "source": [
    "`model_type` is important because, as was discussed in [Data Exploration and Analyses](#Data-Exploration-and-Analyses), tree-based models can make use of ordinal encodings on nominal features. In a logistic regression pipeline, we will use one-hot encoding on ONLY ordinal features, but for tree-based models we will use ordinal encoding for both, in order to reduce feature explosion. "
   ]
  },
  {
   "cell_type": "markdown",
   "id": "4cb7e74c",
   "metadata": {},
   "source": [
    "### 5.2 Structure of Pipelines\n",
    "\n",
    "The modelling pipelines are built in a modular and logical sequence to ensure data integrity, and effective preprocessing:\n",
    "\n",
    "1. **Sampling (Optional)**  \n",
    "   Sampling (e.g. SMOTENC, undersampling) is applied **before** any transformations to avoid:\n",
    "   - Generating synthetic samples from engineered features  \n",
    "   - Sampling after scaling/encoding which would be more computationally expensive \n",
    "   \n",
    "\n",
    "2. **Imputation**  \n",
    "   Missing values are imputed early so that:\n",
    "   - Feature engineering can use complete data  \n",
    "   - Encoders handle missing values properly in categorical features (as a separate category)\n",
    "\n",
    "3. **Feature Engineering**  \n",
    "   New features are created **before** preprocessing (e.g. scaling or encoding) so that they're included in the scaling\n",
    "\n",
    "4. **Preprocessing (ColumnTransformer)**  \n",
    "   The `ColumnTransformer` handles multiple preprocessing paths based on feature type:\n",
    "\n",
    "   - **Diagnosis Codes (`diag_1`, `diag_2`, `diag_3`)**:  \n",
    "     - Passed through `DiagnosisCategoriser`  \n",
    "     - Encoded (One-hot for linear, Ordinal for tree-based)\n",
    "\n",
    "   - **Numerical Features**:  \n",
    "     - Scaled using `StandardScaler`\n",
    "\n",
    "   - **Nominal Categorical Features** (excluding diagnosis):  \n",
    "     - Passed through `CategorySetter`  \n",
    "     - Encoded (One-hot for linear, Ordinal for tree-based)\n",
    "\n",
    "   - **Ordinal Categorical Features**:  \n",
    "     - Always encoded with `OrdinalEncoder`  \n",
    "\n",
    "\n",
    "5. **Classifier**  \n",
    "   Finally, the preprocessed data is passed to the model (LogisticRegression, RandomForest, XGBoost).\n",
    "\n",
    "---\n",
    "\n",
    "### 🔄 Encoding Strategy Summary\n",
    "\n",
    "| Feature Type             | Linear Models      | Tree-Based Models     |\n",
    "|--------------------------|--------------------|------------------------|\n",
    "| `diag_1`, `diag_2`, `diag_3` | OneHotEncoder      | OrdinalEncoder         |\n",
    "| Nominal Categorical      | OneHotEncoder      | OrdinalEncoder         |\n",
    "| Ordinal Categorical      | OrdinalEncoder     | OrdinalEncoder         |\n",
    "| Numerical                | StandardScaler     | (Often left raw)       |"
   ]
  },
  {
   "cell_type": "markdown",
   "id": "71d46516",
   "metadata": {},
   "source": [
    "![Pipeline Diagram](images/pipeline_diagram.png)"
   ]
  },
  {
   "cell_type": "markdown",
   "id": "f40318d4",
   "metadata": {},
   "source": [
    "### 5.3 Building Pipelines"
   ]
  },
  {
   "cell_type": "markdown",
   "id": "b2546f4a",
   "metadata": {},
   "source": [
    "Now we build pipelines: three variants for three different models: Logistic Regression, Random Forest and XGBoost. "
   ]
  },
  {
   "cell_type": "code",
   "execution_count": 16,
   "id": "deef6d92",
   "metadata": {},
   "outputs": [],
   "source": [
    "lr_models = {'standard_LR' : build_pipeline(model_type='linear', include_feat_eng=True, model=LogisticRegression(max_iter=500, random_state=0), nom_cat_features=nom_cat_features, ord_cat_features=ord_cat_features, final_num_features=final_num_features, cat_features_indices=cat_features_indices),\n",
    "               'over_LR':  build_pipeline(model_type='linear', include_feat_eng=True, sampling='oversample', model=LogisticRegression(max_iter=500, random_state=0), nom_cat_features=nom_cat_features, ord_cat_features=ord_cat_features, final_num_features=final_num_features, cat_features_indices=cat_features_indices),\n",
    "                'under_LR':  build_pipeline(model_type='linear', include_feat_eng=True, sampling='undersample', model=LogisticRegression(max_iter=500, random_state=0), nom_cat_features=nom_cat_features, ord_cat_features=ord_cat_features, final_num_features=final_num_features, cat_features_indices=cat_features_indices)\n",
    "}\n",
    "\n",
    "rf_models =  {'standard_RF' : build_pipeline(model_type='tree', include_feat_eng=True, model=RandomForestClassifier(n_estimators=100, random_state=0), nom_cat_features=nom_cat_features, ord_cat_features=ord_cat_features, final_num_features=final_num_features, cat_features_indices=cat_features_indices),\n",
    "               'over_RF':  build_pipeline(model_type='tree', include_feat_eng=True, sampling='oversample', model=RandomForestClassifier(n_estimators=100, random_state=0), nom_cat_features=nom_cat_features, ord_cat_features=ord_cat_features, final_num_features=final_num_features, cat_features_indices=cat_features_indices),\n",
    "                'under_RF':  build_pipeline(model_type='tree', include_feat_eng=True, sampling='undersample', model=RandomForestClassifier(n_estimators=100, random_state=0), nom_cat_features=nom_cat_features, ord_cat_features=ord_cat_features, final_num_features=final_num_features, cat_features_indices=cat_features_indices)\n",
    "}\n",
    "\n",
    "xgb_models =  {'standard_XGB' : build_pipeline(model_type='tree', include_feat_eng=True, model=XGBClassifier(eval_metric='auc', random_state=0), nom_cat_features=nom_cat_features, ord_cat_features=ord_cat_features, final_num_features=final_num_features, cat_features_indices=cat_features_indices),\n",
    "               'over_XGB':  build_pipeline(model_type='tree', include_feat_eng=True, sampling='oversample', model=XGBClassifier(eval_metric='auc', random_state=0), nom_cat_features=nom_cat_features, ord_cat_features=ord_cat_features, final_num_features=final_num_features, cat_features_indices=cat_features_indices),\n",
    "                'under_XGB':  build_pipeline(model_type='tree', include_feat_eng=True, sampling='undersample', model=XGBClassifier(eval_metric='auc', random_state=0), nom_cat_features=nom_cat_features, ord_cat_features=ord_cat_features, final_num_features=final_num_features, cat_features_indices=cat_features_indices)\n",
    "}"
   ]
  },
  {
   "cell_type": "markdown",
   "id": "0078c2ce",
   "metadata": {},
   "source": [
    "## 6. Model Evaluation"
   ]
  },
  {
   "cell_type": "markdown",
   "id": "a8ed9501",
   "metadata": {},
   "source": [
    "### 6.1 Split Data"
   ]
  },
  {
   "cell_type": "markdown",
   "id": "b24d4db1",
   "metadata": {},
   "source": [
    "We split data into train, validation and test data, using `stratify` to preserve imbalance. Validation data will be used to tune hyperparameters and thresholds. The pipelines were built to ensure no data leakage. "
   ]
  },
  {
   "cell_type": "code",
   "execution_count": 18,
   "id": "42250f82",
   "metadata": {},
   "outputs": [],
   "source": [
    "# split train and test data, using stratify to preserve class balance (or imbalanace in this case)\n",
    "X_temp, X_test, y_temp, y_test = train_test_split(X, y, test_size=0.2, stratify=y, random_state=0)\n",
    "\n",
    "X_train, X_valid, y_train, y_valid = train_test_split(X_temp, y_temp, test_size=0.2, stratify=y_temp, random_state=0)"
   ]
  },
  {
   "cell_type": "markdown",
   "id": "0d2c2137",
   "metadata": {},
   "source": [
    "### 6.2 Evaluation Method"
   ]
  },
  {
   "cell_type": "markdown",
   "id": "78fe8aca",
   "metadata": {},
   "source": [
    "The function `evaluate_models` will evaluate model performance on the training data in cross-validation. The chosen metrics are average precision, precision, recall and F1. \n",
    "\n",
    "**Precision**: how many of the predicted readmissions are correct. In the present context, high precision means few **false alarms** - which might represent less resources wasted on preventative steps. \n",
    "\n",
    "**Recall**: how many of the actual readmissions are identified. In the present context, high recall means few **missed readmission risks** - which is of particular concern to us, for reasons discussed in the introduction.\n",
    "\n",
    "**Average Precision**: a threshold-independent measure of precision and recall. \n",
    "\n",
    "**F1**: harmonic mean of precision and recall. This will be our **most important metric**. Always predicting positive guarantees high recall, always predicting negative guarantees high precision - neither of which is desirable, and a balance is critical. \n",
    "\n",
    "We also store model performance information in a dictionary `model_scores`, which we will plot afterwards. "
   ]
  },
  {
   "cell_type": "code",
   "execution_count": 17,
   "id": "9022990d",
   "metadata": {},
   "outputs": [],
   "source": [
    "model_scores = {}\n",
    "\n",
    "def evaluate_models(models):\n",
    "\n",
    "    scoring = {\n",
    "    'average_precision': 'average_precision',\n",
    "    'precision': make_scorer(precision_score),\n",
    "    'recall': make_scorer(recall_score),\n",
    "    'f1': make_scorer(f1_score)\n",
    "    }\n",
    "\n",
    "    for model_name, model in models.items():\n",
    "        cv_results = cross_validate(model, X_train, y_train, cv=3, scoring=scoring, n_jobs=-1)\n",
    "\n",
    "        print(f'Model: {model_name}')\n",
    "        for metric_name, metric_values in cv_results.items():\n",
    "            print(f'  {metric_name}: {metric_values.mean():.4f}')\n",
    "            model_scores[model_name] = {\n",
    "                'f1': cv_results['test_f1'].mean(),\n",
    "                'average_precision': cv_results['test_average_precision'].mean()\n",
    "            }\n",
    "        print(\"-\" * 30) \n",
    "    pass\n"
   ]
  },
  {
   "cell_type": "markdown",
   "id": "3a6918df",
   "metadata": {},
   "source": [
    "### 6.3 Evaluate and Visualise Performance"
   ]
  },
  {
   "cell_type": "code",
   "execution_count": 19,
   "id": "f88d264b",
   "metadata": {},
   "outputs": [
    {
     "name": "stdout",
     "output_type": "stream",
     "text": [
      "Model: standard_LR\n",
      "  fit_time: 3.2728\n",
      "  score_time: 1.6242\n",
      "  test_average_precision: 0.2082\n",
      "  test_precision: 0.4447\n",
      "  test_recall: 0.0140\n",
      "  test_f1: 0.0272\n",
      "------------------------------\n",
      "Model: over_LR\n",
      "  fit_time: 87.7982\n",
      "  score_time: 1.6805\n",
      "  test_average_precision: 0.1416\n",
      "  test_precision: 0.1457\n",
      "  test_recall: 0.3156\n",
      "  test_f1: 0.1994\n",
      "------------------------------\n",
      "Model: under_LR\n",
      "  fit_time: 1.2868\n",
      "  score_time: 1.5282\n",
      "  test_average_precision: 0.2048\n",
      "  test_precision: 0.1710\n",
      "  test_recall: 0.5613\n",
      "  test_f1: 0.2621\n",
      "------------------------------\n",
      "Model: standard_RF\n",
      "  fit_time: 14.0889\n",
      "  score_time: 2.8981\n",
      "  test_average_precision: 0.1864\n",
      "  test_precision: 0.4571\n",
      "  test_recall: 0.0070\n",
      "  test_f1: 0.0138\n",
      "------------------------------\n",
      "Model: over_RF\n",
      "  fit_time: 87.9168\n",
      "  score_time: 3.0312\n",
      "  test_average_precision: 0.1410\n",
      "  test_precision: 0.1604\n",
      "  test_recall: 0.1262\n",
      "  test_f1: 0.1412\n",
      "------------------------------\n",
      "Model: under_RF\n",
      "  fit_time: 3.4361\n",
      "  score_time: 2.5587\n",
      "  test_average_precision: 0.1879\n",
      "  test_precision: 0.1606\n",
      "  test_recall: 0.5756\n",
      "  test_f1: 0.2511\n",
      "------------------------------\n",
      "Model: standard_XGB\n",
      "  fit_time: 3.0744\n",
      "  score_time: 1.6890\n",
      "  test_average_precision: 0.1905\n",
      "  test_precision: 0.4178\n",
      "  test_recall: 0.0329\n",
      "  test_f1: 0.0610\n",
      "------------------------------\n",
      "Model: over_XGB\n",
      "  fit_time: 61.1834\n",
      "  score_time: 1.6136\n",
      "  test_average_precision: 0.1442\n",
      "  test_precision: 0.1599\n",
      "  test_recall: 0.1951\n",
      "  test_f1: 0.1758\n",
      "------------------------------\n",
      "Model: under_XGB\n",
      "  fit_time: 0.9871\n",
      "  score_time: 1.8588\n",
      "  test_average_precision: 0.1812\n",
      "  test_precision: 0.1540\n",
      "  test_recall: 0.5841\n",
      "  test_f1: 0.2438\n",
      "------------------------------\n"
     ]
    }
   ],
   "source": [
    "evaluate_models(lr_models)\n",
    "evaluate_models(rf_models)\n",
    "evaluate_models(xgb_models)"
   ]
  },
  {
   "cell_type": "markdown",
   "id": "236b160a",
   "metadata": {},
   "source": [
    "With `plot_performance` (found in `src/functions.py`), we can take the dictionary, convert it into a dataframe and visualise each model's performance. "
   ]
  },
  {
   "cell_type": "code",
   "execution_count": 20,
   "id": "b81c9037",
   "metadata": {},
   "outputs": [
    {
     "data": {
      "image/png": "[encoded data removed]",
      "text/plain": [
       "<Figure size 1200x600 with 1 Axes>"
      ]
     },
     "metadata": {},
     "output_type": "display_data"
    }
   ],
   "source": [
    "plot_performance(model_scores)"
   ]
  },
  {
   "cell_type": "markdown",
   "id": "1f1866f6",
   "metadata": {},
   "source": [
    "Observations on sampling:\n",
    "\n",
    "1. Random undersampling performs significantly better than both SMOTENC and no sampling, across all models. Some precision is sacrificed, but the gain in recall is enormous, bringing up the f1 score. Given our focus on reducing false negatives, random undersampling seems to be the way to go. \n",
    "\n",
    "2. SMOTENC performs fairly poorly on this dataset, reducing average precision by up to 33% for linear regression compared to no sampling. There are lots of categorical features, some of which still have relatively high cardinalities (up to 20) which might make synthetic sampling more difficult. We can tell by the very long fit time that it is an expensive and complex process - one which may not be resulting in reliable, realistic data. In future, I would like to try oversampling to a smaller degree; increasing majority size to 30% for example, instead of the default 50%, might yield better results. \n",
    "\n",
    "3. No sampling, as expected, has extremely low recall. It struggles to identify negative cases, and apparently predicts positive nearly always. "
   ]
  },
  {
   "cell_type": "markdown",
   "id": "bf0c3414",
   "metadata": {},
   "source": [
    "Observations on model performance:\n",
    "\n",
    "1. It is important to note, first of all, that performance is not exceptionally good across all models. F1 scores are all well below 0.3, signifying relatively poor predictive performance when we consider both the positive and negative classes. \n",
    "\n",
    "2. Logistic Regression, combined with undersampling, actually performs the best in F1 and average precision. This might be due to less overfitting. It may be that the data is fairly low-signal, given its lack of information on lifestyle, genetic information, health indicators. Or high-noise, given the sheer number of features. The more complex tree-based models are more prone to overfitting. \n",
    "\n",
    "3. Despite scoring lower than Logistic Regression, XGBoost's performance may well be improved by parameter tuning which might reduce overfitting, and making use of the native `scale_pos_weight` parameter to deal with class imbalance. In a later section, I will maximise predictive performance by doing this with an XGBoost model. "
   ]
  },
  {
   "cell_type": "markdown",
   "id": "19eeaa67",
   "metadata": {},
   "source": [
    "## 7. Logistic Regression and Interpretability"
   ]
  },
  {
   "cell_type": "markdown",
   "id": "6a643c30",
   "metadata": {},
   "source": [
    "While model performance metrics like F1 score and average precision are important, they are not the only factors to consider in healthcare applications. In high-stakes contexts like the current one, **interpretability** is critical for enabling transparency and trust.\n",
    "\n",
    "Although an optimised XGBoost may perform better, it is inherently complex and difficult to interpret. Its predictions are derived from an thousands of decision tree splits in the data, making it challenging to trace how individual input features contribute to a specific prediction. Practitioners will be understandably wary of utilising something so undescriptive. \n",
    "\n",
    "In contrast, Logistic Regression offers a high degree of interpretability. Model coefficients are easily accessible, which represent the impact of each feature on the outcome. This transparency allows practioners to understand where predictions are coming from, which is extremely important in a highly regulated and sensitive hospital environment. \n",
    "\n",
    "In our experiments, Logistic Regression combined with random undersampling not only delivered strong predictive performance (high F1 and average precision scores), but also maintained full interpretability. This balance between accuracy and transparency makes it the most suitable model for this context. "
   ]
  },
  {
   "cell_type": "markdown",
   "id": "3b9f5db6",
   "metadata": {},
   "source": [
    "## 8. Model Tuning & Optimisation"
   ]
  },
  {
   "cell_type": "markdown",
   "id": "a86ac8fc",
   "metadata": {},
   "source": [
    "Despite the fact that Logistic Regression should be preferred due to its high interpretability over XGBoost, here I will optimise an \n",
    "XGBoost model to attain the highest F1 score possible, as an exercise and demonstration of performance enhancing techniques."
   ]
  },
  {
   "cell_type": "markdown",
   "id": "7243d4e6",
   "metadata": {},
   "source": [
    "### 8.1 Native Imbalance Method"
   ]
  },
  {
   "cell_type": "markdown",
   "id": "7b00f95c",
   "metadata": {},
   "source": [
    "XGBoost actually has a native technique for dealing with class imbalance `scale_pos_weight`, which I will make use of here because it actually improves performance more than either `SMOTENC` or `RandomUnderSampler`."
   ]
  },
  {
   "cell_type": "code",
   "execution_count": 27,
   "id": "6472859f",
   "metadata": {},
   "outputs": [],
   "source": [
    "class_imbalance = (y_train['readmitted'] == 0).sum()/(y_train['readmitted'] == 1).sum()\n",
    "\n",
    "\n",
    "\n",
    "improved_model_pipeline = build_pipeline(model_type='linear',\n",
    "                                        include_feat_eng=True, \n",
    "                                        model=XGBClassifier(eval_metric='logloss', random_state=0, scale_pos_weight=class_imbalance),\n",
    "                                        nom_cat_features=nom_cat_features, ord_cat_features=ord_cat_features, final_num_features=final_num_features, cat_features_indices=cat_features_indices)"
   ]
  },
  {
   "cell_type": "markdown",
   "id": "35ce737d",
   "metadata": {},
   "source": [
    "### 8.2 RandomizedSearch"
   ]
  },
  {
   "cell_type": "markdown",
   "id": "2968a2fa",
   "metadata": {},
   "source": [
    "Next we perform a randomized search to tune model parameters. "
   ]
  },
  {
   "cell_type": "code",
   "execution_count": 28,
   "id": "7f0c367c",
   "metadata": {},
   "outputs": [
    {
     "name": "stdout",
     "output_type": "stream",
     "text": [
      "Best parameters found:  {'classifier__subsample': 0.6, 'classifier__n_estimators': 300, 'classifier__min_child_weight': 10, 'classifier__max_depth': 5, 'classifier__learning_rate': 0.01, 'classifier__gamma': 1, 'classifier__colsample_bytree': 0.6}\n",
      "Best cross-validation score:  0.2719444161755592\n",
      "Validation Set Score: 0.2806174089068826\n"
     ]
    }
   ],
   "source": [
    "param_grid = {\n",
    "    'classifier__n_estimators': [100, 200, 300],\n",
    "    'classifier__max_depth': [3, 5, 7, 10],\n",
    "    'classifier__learning_rate': [0.01, 0.05, 0.1],\n",
    "    'classifier__subsample': [0.6, 0.8, 1.0],\n",
    "    'classifier__colsample_bytree': [0.6, 0.8, 1.0],\n",
    "    'classifier__min_child_weight': [1, 5, 10],\n",
    "    'classifier__gamma': [0, 1, 5]\n",
    "}\n",
    "\n",
    "random_search = RandomizedSearchCV(\n",
    "        estimator=improved_model_pipeline,\n",
    "        param_distributions=param_grid,\n",
    "        cv=5, \n",
    "        scoring='f1', \n",
    "        n_jobs=-1\n",
    "    )\n",
    "random_search.fit(X_train, y_train)\n",
    "\n",
    "print(\"Best parameters found: \", random_search.best_params_)\n",
    "print(\"Best cross-validation score: \", random_search.best_score_)\n",
    "print(\"Validation Set Score:\", random_search.score(X_valid, y_valid))"
   ]
  },
  {
   "cell_type": "markdown",
   "id": "b659dc47",
   "metadata": {},
   "source": [
    "### 8.3 Thresholding"
   ]
  },
  {
   "cell_type": "markdown",
   "id": "e504690b",
   "metadata": {},
   "source": [
    "Finally, we'll optimise the threshold for positive prediction."
   ]
  },
  {
   "cell_type": "code",
   "execution_count": 29,
   "id": "9b4ab767",
   "metadata": {},
   "outputs": [
    {
     "name": "stdout",
     "output_type": "stream",
     "text": [
      "F1 score for threshold 0.4: 0.2379\n",
      "F1 score for threshold 0.45: 0.2595\n",
      "F1 score for threshold 0.5: 0.2806\n",
      "F1 score for threshold 0.55: 0.2923\n",
      "F1 score for threshold 0.6: 0.2823\n"
     ]
    }
   ],
   "source": [
    "# change threshold\n",
    "best_pipeline = random_search.best_estimator_\n",
    "y_pred_proba = best_pipeline.predict_proba(X_valid)[:, 1]\n",
    "\n",
    "\n",
    "thresholds = [0.4,0.45,0.5,0.55,0.6]\n",
    "\n",
    "for threshold in thresholds:\n",
    "    y_pred = (y_pred_proba >= threshold).astype(int)\n",
    "    print(f'F1 score for threshold {threshold}: {f1_score(y_valid, y_pred):.4f}')"
   ]
  },
  {
   "cell_type": "markdown",
   "id": "be919aba",
   "metadata": {},
   "source": [
    "We limit the testing values (between 0.4-0.6) to avoid overfitting to validation data. It appears a moderate increase to 0.55 may yield slight gains in performance. "
   ]
  },
  {
   "cell_type": "markdown",
   "id": "a251546b",
   "metadata": {},
   "source": [
    "### 8.4 Final Testing"
   ]
  },
  {
   "cell_type": "markdown",
   "id": "9cf64e38",
   "metadata": {},
   "source": [
    "Now we'll made predictions on the test data and analyse performance. "
   ]
  },
  {
   "cell_type": "code",
   "execution_count": 30,
   "id": "1e4f36c2",
   "metadata": {},
   "outputs": [
    {
     "name": "stdout",
     "output_type": "stream",
     "text": [
      "Final Test F1 Score: 0.2791\n",
      "Precision: 0.2098\n",
      "Recall: 0.4170\n"
     ]
    }
   ],
   "source": [
    "test_y_pred_proba = best_pipeline.predict_proba(X_test)[:,1]\n",
    "\n",
    "opt_threshold = 0.55\n",
    "\n",
    "test_y_pred = (test_y_pred_proba >= opt_threshold).astype(int)\n",
    "\n",
    "test_f1 = f1_score(y_test, test_y_pred)\n",
    "test_precision = precision_score(y_test, test_y_pred, )\n",
    "test_recall = recall_score(y_test, test_y_pred, )\n",
    "\n",
    "print(f'Final Test F1 Score: {test_f1:.4f}')\n",
    "print(f'Precision: {test_precision:.4f}')\n",
    "print(f'Recall: {test_recall:.4f}')"
   ]
  },
  {
   "cell_type": "markdown",
   "id": "89cfd954",
   "metadata": {},
   "source": [
    "While logistic regression demonstrated strong performance and high interpretability — making it a suitable choice in clinical settings — here we have used an XGBoost model in order to maximise predictive performance. After hyperparameter tuning and threshold optimization using validation data, the final XGBoost model achieved an F1 score of 0.2791 on the held-out test set, with a precision of 0.2098 and recall of 0.4170. These results display a modest but meaningful ability to identify patients at risk of 30-day readmission, with a solid recall rate of 40%. Given the priority of false negatives in this context, the trade-off with precision is acceptable. This highlights the performance gains achievable through boosting methods and hyperparameter tuning, even with a noisy and imbalanced dataset. "
   ]
  }
 ],
 "metadata": {
  "kernelspec": {
   "display_name": "venv",
   "language": "python",
   "name": "python3"
  },
  "language_info": {
   "codemirror_mode": {
    "name": "ipython",
    "version": 3
   },
   "file_extension": ".py",
   "mimetype": "text/x-python",
   "name": "python",
   "nbconvert_exporter": "python",
   "pygments_lexer": "ipython3",
   "version": "3.11.1"
  }
 },
 "nbformat": 4,
 "nbformat_minor": 5
}
